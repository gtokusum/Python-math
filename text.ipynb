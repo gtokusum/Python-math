{
 "cells": [
  {
   "cell_type": "code",
   "execution_count": 7,
   "metadata": {},
   "outputs": [],
   "source": [
    "import random as rn\n"
   ]
  },
  {
   "cell_type": "code",
   "execution_count": 10,
   "metadata": {},
   "outputs": [],
   "source": [
    "def getDNA(x=10):\n",
    "    DNA = \"\"\n",
    "    for i in range(x):\n",
    "        j = rn.randint(0,3)\n",
    "        if j == 0:\n",
    "            DNA = DNA + \"A\"\n",
    "        elif j == 1:\n",
    "            DNA = DNA + \"T\"\n",
    "        elif j == 2:\n",
    "            DNA = DNA + \"C\"\n",
    "        else:\n",
    "            DNA = DNA + \"G\"\n",
    "    return DNA\n"
   ]
  },
  {
   "cell_type": "code",
   "execution_count": 11,
   "metadata": {},
   "outputs": [
    {
     "name": "stdout",
     "output_type": "stream",
     "text": [
      "GAAGCTCGGT CATCCAAGCG\n"
     ]
    }
   ],
   "source": [
    "pops = getDNA()\n",
    "motha = getDNA()\n",
    "print(pops,motha)"
   ]
  },
  {
   "cell_type": "code",
   "execution_count": 12,
   "metadata": {},
   "outputs": [],
   "source": [
    "def child(mom,dad):\n",
    "    for i in range(50):\n",
    "        child = \"\"\n",
    "        for j in range(10):\n",
    "            k = rn.randint(0,1)\n",
    "            if k == 0:\n",
    "                child = child + mom[j]\n",
    "            else: \n",
    "                child = child + dad[j]\n",
    "        print(child)\n"
   ]
  },
  {
   "cell_type": "code",
   "execution_count": 13,
   "metadata": {},
   "outputs": [
    {
     "name": "stdout",
     "output_type": "stream",
     "text": [
      "GAACCACGGT\n",
      "CAAGCTCGCT\n",
      "GAACCACGGG\n",
      "CATCCACGCG\n",
      "CATGCAAGCT\n",
      "CATGCAAGCG\n",
      "CAAGCTCGGT\n",
      "CAACCTCGGG\n",
      "GATGCTCGCG\n",
      "CAACCACGCG\n",
      "GATCCTAGCG\n",
      "GAACCACGGT\n",
      "GAAGCACGGT\n",
      "CAACCAAGCG\n",
      "CATGCTAGCT\n",
      "CAACCTAGCT\n",
      "CAAGCTCGGG\n",
      "CATCCTAGGT\n",
      "GAACCACGCT\n",
      "CATCCTAGGT\n",
      "CAAGCAAGCG\n",
      "GATGCTCGGG\n",
      "GAACCTCGGG\n",
      "CAAGCACGGG\n",
      "GAACCACGCT\n",
      "CAAGCTCGCG\n",
      "CATCCACGGT\n",
      "GAACCACGGG\n",
      "CAACCACGCT\n",
      "GAAGCAAGCG\n",
      "CAAGCACGCG\n",
      "GATGCTAGCG\n",
      "GATGCACGCT\n",
      "GATGCAAGCT\n",
      "GATCCTAGCG\n",
      "CATCCAAGGG\n",
      "CATGCAAGGG\n",
      "CATGCTAGCG\n",
      "CATGCACGGT\n",
      "CATCCTAGGT\n",
      "GATCCTAGCT\n",
      "CATCCTAGGG\n",
      "CATCCTCGGG\n",
      "CATGCTCGCG\n",
      "CAAGCTCGGT\n",
      "CAAGCAAGCT\n",
      "GAAGCAAGCT\n",
      "GAAGCTCGGT\n",
      "GATCCTAGGT\n",
      "GATGCACGCG\n"
     ]
    }
   ],
   "source": [
    "child(motha,pops)"
   ]
  },
  {
   "cell_type": "code",
   "execution_count": null,
   "metadata": {},
   "outputs": [],
   "source": []
  }
 ],
 "metadata": {
  "interpreter": {
   "hash": "e2285245b908efc2ffc92fdb245b97197e448e34225519957bc610a80b044029"
  },
  "kernelspec": {
   "display_name": "Python 3.9.7 64-bit",
   "name": "python3"
  },
  "language_info": {
   "codemirror_mode": {
    "name": "ipython",
    "version": 3
   },
   "file_extension": ".py",
   "mimetype": "text/x-python",
   "name": "python",
   "nbconvert_exporter": "python",
   "pygments_lexer": "ipython3",
   "version": "3.9.7"
  },
  "orig_nbformat": 4
 },
 "nbformat": 4,
 "nbformat_minor": 2
}
